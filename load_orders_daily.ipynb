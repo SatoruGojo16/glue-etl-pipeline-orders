{
 "cells": [
  {
   "cell_type": "code",
   "execution_count": 34,
   "id": "aabcb257-1e60-4748-8530-53813e96b50e",
   "metadata": {},
   "outputs": [],
   "source": [
    "import boto3\n",
    "import os \n",
    "from datetime import datetime\n",
    "date = '2011-01-09'\n",
    "bucket_name = 'aws-s3-bucket-practise-1143546'"
   ]
  },
  {
   "cell_type": "code",
   "execution_count": 35,
   "id": "c7fdfccd-84ae-4231-ab4a-8813ec096208",
   "metadata": {},
   "outputs": [],
   "source": [
    "date = datetime.strptime(date, '%Y-%m-%d')\n",
    "day = date.strftime('%d')\n",
    "month = date.strftime('%m')\n",
    "year = date.strftime('%Y')\n",
    "file_path = f'order_details/year={year}/month={month}/day={day}/'"
   ]
  },
  {
   "cell_type": "code",
   "execution_count": 15,
   "id": "73c4afc4-5374-4543-821b-8471c421aa8d",
   "metadata": {},
   "outputs": [],
   "source": [
    "table_loaded = False"
   ]
  },
  {
   "cell_type": "code",
   "execution_count": 18,
   "id": "0787291a-b8a7-41d8-95b8-664e8c79f99e",
   "metadata": {},
   "outputs": [
    {
     "name": "stdout",
     "output_type": "stream",
     "text": [
      "S3 Orders - File Upload- Day - 09 - files are uploaded - File Path - order_details/year=2011/month=01/day=09/ - File Name order_details/year=2011/month=01/day=09/run-1753893841827-part-block-0-0-r-00000-snappy.parquet\n",
      "S3 Orders - File Upload- Day - 09 - files are uploaded - File Path - order_details/year=2011/month=01/day=09/ - File Name order_details/year=2011/month=01/day=09/run-1753893841827-part-block-0-0-r-00001-snappy.parquet\n",
      "S3 Orders - File Upload- Day - 09 - files are uploaded - File Path - order_details/year=2011/month=01/day=09/ - File Name order_details/year=2011/month=01/day=09/run-1753893841827-part-block-0-0-r-00002-snappy.parquet\n",
      "S3 Orders - File Upload- Day - 09 - files are uploaded - File Path - order_details/year=2011/month=01/day=09/ - File Name order_details/year=2011/month=01/day=09/run-1753893841827-part-block-0-0-r-00003-snappy.parquet\n"
     ]
    }
   ],
   "source": [
    "try:\n",
    "    s3_client = boto3.client('s3')\n",
    "    files_list = []\n",
    "    for root, folder,files  in os.walk(file_path):\n",
    "        for file in files:\n",
    "            file_item = root + file\n",
    "            s3_client.upload_file(Bucket=bucket_name, Key= file_item, Filename = file_item)\n",
    "            print(f'S3 Orders - File Upload- Day - {day} - files are uploaded - File Path - {file_path} - File Name {file_item}')\n",
    "            table_loaded = True\n",
    "except Exception as e:\n",
    "    print(f'S3 Orders - Unable to uplod files for Day - {day} - File Path - {file_path} - \\nError\\n{str(e)}')"
   ]
  },
  {
   "cell_type": "code",
   "execution_count": 19,
   "id": "d5f6b0ee-df5d-4c27-acc7-3ff6b2ee28ab",
   "metadata": {},
   "outputs": [
    {
     "name": "stdout",
     "output_type": "stream",
     "text": [
      "Orders Crawler Triggered successfully\n"
     ]
    }
   ],
   "source": [
    "try:\n",
    "    if table_loaded:\n",
    "        glue_client = boto3.client('glue')\n",
    "        glue_client.start_crawler(Name = 'orders')\n",
    "        print(f'Orders Crawler Triggered successfully')\n",
    "except Exception as e:\n",
    "    print(f'Orders Crawler trigger failed - \\nError\\n{str(e)}')"
   ]
  },
  {
   "cell_type": "code",
   "execution_count": null,
   "id": "85c51113-8907-4420-92db-fba38ed8a707",
   "metadata": {},
   "outputs": [],
   "source": []
  },
  {
   "cell_type": "code",
   "execution_count": null,
   "id": "d8ac0f13-bd6a-4e74-88cc-065403cbd71b",
   "metadata": {},
   "outputs": [],
   "source": []
  }
 ],
 "metadata": {
  "kernelspec": {
   "display_name": "Python 3 (ipykernel)",
   "language": "python",
   "name": "python3"
  },
  "language_info": {
   "codemirror_mode": {
    "name": "ipython",
    "version": 3
   },
   "file_extension": ".py",
   "mimetype": "text/x-python",
   "name": "python",
   "nbconvert_exporter": "python",
   "pygments_lexer": "ipython3",
   "version": "3.9.7"
  }
 },
 "nbformat": 4,
 "nbformat_minor": 5
}
