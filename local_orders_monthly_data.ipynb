{
 "cells": [
  {
   "cell_type": "code",
   "execution_count": 1,
   "id": "637981dc-5a69-48a5-a314-01be08ad5174",
   "metadata": {},
   "outputs": [],
   "source": [
    "import boto3 as b \n",
    "from datetime import datetime"
   ]
  },
  {
   "cell_type": "code",
   "execution_count": 9,
   "id": "7de32678-96f9-4740-a012-609a54fce22c",
   "metadata": {},
   "outputs": [],
   "source": [
    "input_batch = '2011-1'"
   ]
  },
  {
   "cell_type": "code",
   "execution_count": 10,
   "id": "86c18879-afb4-418d-8315-cca1ba009de3",
   "metadata": {},
   "outputs": [],
   "source": [
    "bucket_name = 'aws-s3-bucket-practise-1143546'\n",
    "file_path = f'./orders_{input_batch}.csv'\n",
    "object_path = f'input_files/orders_{input_batch}.csv'"
   ]
  },
  {
   "cell_type": "code",
   "execution_count": 11,
   "id": "f9404152-d5e7-4a6b-8287-81d56bf77430",
   "metadata": {},
   "outputs": [
    {
     "name": "stdout",
     "output_type": "stream",
     "text": [
      "Data file is uploaded for date - 2011-1\n"
     ]
    }
   ],
   "source": [
    "try:\n",
    "    s3_client = b.client('s3')\n",
    "    s3_client.upload_file(file_path, bucket_name, object_path) \n",
    "    print(f'Data file is uploaded for date - {input_batch}')\n",
    "except Exception as e:\n",
    "    print(f'Unable to upload the data for date - {input_batch}')\n",
    "    print(f'Eror Message {str(e)}')\n"
   ]
  },
  {
   "cell_type": "code",
   "execution_count": null,
   "id": "35d9cc65-cd73-486f-8615-29f67a30e99a",
   "metadata": {},
   "outputs": [],
   "source": []
  }
 ],
 "metadata": {
  "kernelspec": {
   "display_name": "Python 3 (ipykernel)",
   "language": "python",
   "name": "python3"
  },
  "language_info": {
   "codemirror_mode": {
    "name": "ipython",
    "version": 3
   },
   "file_extension": ".py",
   "mimetype": "text/x-python",
   "name": "python",
   "nbconvert_exporter": "python",
   "pygments_lexer": "ipython3",
   "version": "3.11.13"
  }
 },
 "nbformat": 4,
 "nbformat_minor": 5
}
